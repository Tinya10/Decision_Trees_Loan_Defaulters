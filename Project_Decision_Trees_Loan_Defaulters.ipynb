{
 "cells": [
  {
   "cell_type": "code",
   "execution_count": 56,
   "metadata": {},
   "outputs": [],
   "source": [
    "# import the modules\n",
    "import warnings \n",
    "warnings.filterwarnings('ignore')\n",
    "\n",
    "import pandas as pd\n",
    "import numpy as np\n",
    "import matplotlib.pyplot as plt\n",
    "import seaborn as sns\n",
    "from sklearn.model_selection import train_test_split\n",
    "from sklearn.preprocessing import LabelEncoder\n",
    "from sklearn.tree import DecisionTreeClassifier\n",
    "from sklearn.model_selection import GridSearchCV"
   ]
  },
  {
   "cell_type": "code",
   "execution_count": 57,
   "metadata": {},
   "outputs": [
    {
     "data": {
      "text/html": [
       "<div>\n",
       "<style scoped>\n",
       "    .dataframe tbody tr th:only-of-type {\n",
       "        vertical-align: middle;\n",
       "    }\n",
       "\n",
       "    .dataframe tbody tr th {\n",
       "        vertical-align: top;\n",
       "    }\n",
       "\n",
       "    .dataframe thead th {\n",
       "        text-align: right;\n",
       "    }\n",
       "</style>\n",
       "<table border=\"1\" class=\"dataframe\">\n",
       "  <thead>\n",
       "    <tr style=\"text-align: right;\">\n",
       "      <th></th>\n",
       "      <th>Id</th>\n",
       "      <th>customer.id</th>\n",
       "      <th>credit.policy</th>\n",
       "      <th>purpose</th>\n",
       "      <th>int.rate</th>\n",
       "      <th>installment</th>\n",
       "      <th>log.annual.inc</th>\n",
       "      <th>dti</th>\n",
       "      <th>fico</th>\n",
       "      <th>days.with.cr.line</th>\n",
       "      <th>revol.bal</th>\n",
       "      <th>revol.util</th>\n",
       "      <th>pub.rec</th>\n",
       "      <th>inq.last.6mths</th>\n",
       "      <th>delinq.2yrs</th>\n",
       "      <th>paid.back.loan</th>\n",
       "    </tr>\n",
       "  </thead>\n",
       "  <tbody>\n",
       "    <tr>\n",
       "      <th>0</th>\n",
       "      <td>6269</td>\n",
       "      <td>LA006270</td>\n",
       "      <td>Yes</td>\n",
       "      <td>debt_consolidation</td>\n",
       "      <td>12.53%</td>\n",
       "      <td>689.41</td>\n",
       "      <td>11.513725</td>\n",
       "      <td>14.45</td>\n",
       "      <td>722</td>\n",
       "      <td>4291.000000</td>\n",
       "      <td>13171</td>\n",
       "      <td>51.8</td>\n",
       "      <td>0</td>\n",
       "      <td>Less than 5</td>\n",
       "      <td>No</td>\n",
       "      <td>Yes</td>\n",
       "    </tr>\n",
       "    <tr>\n",
       "      <th>1</th>\n",
       "      <td>1460</td>\n",
       "      <td>LA001461</td>\n",
       "      <td>Yes</td>\n",
       "      <td>credit_card</td>\n",
       "      <td>10.20%</td>\n",
       "      <td>485.42</td>\n",
       "      <td>10.315597</td>\n",
       "      <td>12.87</td>\n",
       "      <td>752</td>\n",
       "      <td>5789.958333</td>\n",
       "      <td>14857</td>\n",
       "      <td>31.3</td>\n",
       "      <td>0</td>\n",
       "      <td>Less than 5</td>\n",
       "      <td>Yes</td>\n",
       "      <td>Yes</td>\n",
       "    </tr>\n",
       "    <tr>\n",
       "      <th>2</th>\n",
       "      <td>5539</td>\n",
       "      <td>LA005540</td>\n",
       "      <td>Yes</td>\n",
       "      <td>debt_consolidation</td>\n",
       "      <td>12.87%</td>\n",
       "      <td>121.08</td>\n",
       "      <td>11.238436</td>\n",
       "      <td>1.58</td>\n",
       "      <td>692</td>\n",
       "      <td>3391.000000</td>\n",
       "      <td>12135</td>\n",
       "      <td>85.5</td>\n",
       "      <td>0</td>\n",
       "      <td>Less than 5</td>\n",
       "      <td>No</td>\n",
       "      <td>Yes</td>\n",
       "    </tr>\n",
       "    <tr>\n",
       "      <th>3</th>\n",
       "      <td>9020</td>\n",
       "      <td>LA009021</td>\n",
       "      <td>No</td>\n",
       "      <td>all_other</td>\n",
       "      <td>15.37%</td>\n",
       "      <td>348.47</td>\n",
       "      <td>11.142007</td>\n",
       "      <td>11.01</td>\n",
       "      <td>687</td>\n",
       "      <td>5370.000000</td>\n",
       "      <td>10631</td>\n",
       "      <td>35.3</td>\n",
       "      <td>0</td>\n",
       "      <td>Less than 10</td>\n",
       "      <td>No</td>\n",
       "      <td>Yes</td>\n",
       "    </tr>\n",
       "    <tr>\n",
       "      <th>4</th>\n",
       "      <td>4365</td>\n",
       "      <td>LA004366</td>\n",
       "      <td>Yes</td>\n",
       "      <td>debt_consolidation</td>\n",
       "      <td>14.61%</td>\n",
       "      <td>344.76</td>\n",
       "      <td>10.308953</td>\n",
       "      <td>11.36</td>\n",
       "      <td>672</td>\n",
       "      <td>2429.958333</td>\n",
       "      <td>10544</td>\n",
       "      <td>57.0</td>\n",
       "      <td>0</td>\n",
       "      <td>Less than 5</td>\n",
       "      <td>Yes</td>\n",
       "      <td>Yes</td>\n",
       "    </tr>\n",
       "  </tbody>\n",
       "</table>\n",
       "</div>"
      ],
      "text/plain": [
       "     Id customer.id credit.policy             purpose int.rate  installment  \\\n",
       "0  6269    LA006270           Yes  debt_consolidation   12.53%       689.41   \n",
       "1  1460    LA001461           Yes         credit_card   10.20%       485.42   \n",
       "2  5539    LA005540           Yes  debt_consolidation   12.87%       121.08   \n",
       "3  9020    LA009021            No           all_other   15.37%       348.47   \n",
       "4  4365    LA004366           Yes  debt_consolidation   14.61%       344.76   \n",
       "\n",
       "   log.annual.inc    dti  fico  days.with.cr.line  revol.bal  revol.util  \\\n",
       "0       11.513725  14.45   722        4291.000000      13171        51.8   \n",
       "1       10.315597  12.87   752        5789.958333      14857        31.3   \n",
       "2       11.238436   1.58   692        3391.000000      12135        85.5   \n",
       "3       11.142007  11.01   687        5370.000000      10631        35.3   \n",
       "4       10.308953  11.36   672        2429.958333      10544        57.0   \n",
       "\n",
       "   pub.rec inq.last.6mths delinq.2yrs paid.back.loan  \n",
       "0        0    Less than 5          No            Yes  \n",
       "1        0    Less than 5         Yes            Yes  \n",
       "2        0    Less than 5          No            Yes  \n",
       "3        0   Less than 10          No            Yes  \n",
       "4        0    Less than 5         Yes            Yes  "
      ]
     },
     "execution_count": 57,
     "metadata": {},
     "output_type": "execute_result"
    }
   ],
   "source": [
    "#Load the dataset\n",
    "#Load the train data and using all your knowledge try to explore the different statistical properties of the dataset.\n",
    "\n",
    "# Code starts here\n",
    "train = pd.read_csv(\"C:/Users/hp/Python Projects/Projects/Project_Decision_Trees_Loan_Defaulters/train.csv\")\n",
    "train.head()"
   ]
  },
  {
   "cell_type": "code",
   "execution_count": 58,
   "metadata": {},
   "outputs": [
    {
     "data": {
      "text/html": [
       "<div>\n",
       "<style scoped>\n",
       "    .dataframe tbody tr th:only-of-type {\n",
       "        vertical-align: middle;\n",
       "    }\n",
       "\n",
       "    .dataframe tbody tr th {\n",
       "        vertical-align: top;\n",
       "    }\n",
       "\n",
       "    .dataframe thead th {\n",
       "        text-align: right;\n",
       "    }\n",
       "</style>\n",
       "<table border=\"1\" class=\"dataframe\">\n",
       "  <thead>\n",
       "    <tr style=\"text-align: right;\">\n",
       "      <th></th>\n",
       "      <th>credit.policy</th>\n",
       "      <th>purpose</th>\n",
       "      <th>int.rate</th>\n",
       "      <th>installment</th>\n",
       "      <th>log.annual.inc</th>\n",
       "      <th>dti</th>\n",
       "      <th>fico</th>\n",
       "      <th>days.with.cr.line</th>\n",
       "      <th>revol.bal</th>\n",
       "      <th>revol.util</th>\n",
       "      <th>pub.rec</th>\n",
       "      <th>inq.last.6mths</th>\n",
       "      <th>delinq.2yrs</th>\n",
       "      <th>paid.back.loan</th>\n",
       "    </tr>\n",
       "  </thead>\n",
       "  <tbody>\n",
       "    <tr>\n",
       "      <th>0</th>\n",
       "      <td>Yes</td>\n",
       "      <td>debt_consolidation</td>\n",
       "      <td>12.53%</td>\n",
       "      <td>689.41</td>\n",
       "      <td>11.513725</td>\n",
       "      <td>14.45</td>\n",
       "      <td>722</td>\n",
       "      <td>4291.000000</td>\n",
       "      <td>13171</td>\n",
       "      <td>51.8</td>\n",
       "      <td>0</td>\n",
       "      <td>Less than 5</td>\n",
       "      <td>No</td>\n",
       "      <td>Yes</td>\n",
       "    </tr>\n",
       "    <tr>\n",
       "      <th>1</th>\n",
       "      <td>Yes</td>\n",
       "      <td>credit_card</td>\n",
       "      <td>10.20%</td>\n",
       "      <td>485.42</td>\n",
       "      <td>10.315597</td>\n",
       "      <td>12.87</td>\n",
       "      <td>752</td>\n",
       "      <td>5789.958333</td>\n",
       "      <td>14857</td>\n",
       "      <td>31.3</td>\n",
       "      <td>0</td>\n",
       "      <td>Less than 5</td>\n",
       "      <td>Yes</td>\n",
       "      <td>Yes</td>\n",
       "    </tr>\n",
       "    <tr>\n",
       "      <th>2</th>\n",
       "      <td>Yes</td>\n",
       "      <td>debt_consolidation</td>\n",
       "      <td>12.87%</td>\n",
       "      <td>121.08</td>\n",
       "      <td>11.238436</td>\n",
       "      <td>1.58</td>\n",
       "      <td>692</td>\n",
       "      <td>3391.000000</td>\n",
       "      <td>12135</td>\n",
       "      <td>85.5</td>\n",
       "      <td>0</td>\n",
       "      <td>Less than 5</td>\n",
       "      <td>No</td>\n",
       "      <td>Yes</td>\n",
       "    </tr>\n",
       "    <tr>\n",
       "      <th>3</th>\n",
       "      <td>No</td>\n",
       "      <td>all_other</td>\n",
       "      <td>15.37%</td>\n",
       "      <td>348.47</td>\n",
       "      <td>11.142007</td>\n",
       "      <td>11.01</td>\n",
       "      <td>687</td>\n",
       "      <td>5370.000000</td>\n",
       "      <td>10631</td>\n",
       "      <td>35.3</td>\n",
       "      <td>0</td>\n",
       "      <td>Less than 10</td>\n",
       "      <td>No</td>\n",
       "      <td>Yes</td>\n",
       "    </tr>\n",
       "    <tr>\n",
       "      <th>4</th>\n",
       "      <td>Yes</td>\n",
       "      <td>debt_consolidation</td>\n",
       "      <td>14.61%</td>\n",
       "      <td>344.76</td>\n",
       "      <td>10.308953</td>\n",
       "      <td>11.36</td>\n",
       "      <td>672</td>\n",
       "      <td>2429.958333</td>\n",
       "      <td>10544</td>\n",
       "      <td>57.0</td>\n",
       "      <td>0</td>\n",
       "      <td>Less than 5</td>\n",
       "      <td>Yes</td>\n",
       "      <td>Yes</td>\n",
       "    </tr>\n",
       "  </tbody>\n",
       "</table>\n",
       "</div>"
      ],
      "text/plain": [
       "  credit.policy             purpose int.rate  installment  log.annual.inc  \\\n",
       "0           Yes  debt_consolidation   12.53%       689.41       11.513725   \n",
       "1           Yes         credit_card   10.20%       485.42       10.315597   \n",
       "2           Yes  debt_consolidation   12.87%       121.08       11.238436   \n",
       "3            No           all_other   15.37%       348.47       11.142007   \n",
       "4           Yes  debt_consolidation   14.61%       344.76       10.308953   \n",
       "\n",
       "     dti  fico  days.with.cr.line  revol.bal  revol.util  pub.rec  \\\n",
       "0  14.45   722        4291.000000      13171        51.8        0   \n",
       "1  12.87   752        5789.958333      14857        31.3        0   \n",
       "2   1.58   692        3391.000000      12135        85.5        0   \n",
       "3  11.01   687        5370.000000      10631        35.3        0   \n",
       "4  11.36   672        2429.958333      10544        57.0        0   \n",
       "\n",
       "  inq.last.6mths delinq.2yrs paid.back.loan  \n",
       "0    Less than 5          No            Yes  \n",
       "1    Less than 5         Yes            Yes  \n",
       "2    Less than 5          No            Yes  \n",
       "3   Less than 10          No            Yes  \n",
       "4    Less than 5         Yes            Yes  "
      ]
     },
     "execution_count": 58,
     "metadata": {},
     "output_type": "execute_result"
    }
   ],
   "source": [
    "# drop serial number\n",
    "train.drop(columns=['Id','customer.id'],inplace=True)\n",
    "train.head()"
   ]
  },
  {
   "cell_type": "code",
   "execution_count": 59,
   "metadata": {},
   "outputs": [
    {
     "data": {
      "text/plain": [
       "Yes    6444\n",
       "No     1218\n",
       "Name: paid.back.loan, dtype: int64"
      ]
     },
     "execution_count": 59,
     "metadata": {},
     "output_type": "execute_result"
    }
   ],
   "source": [
    "#Visualize the data\n",
    "#Check for the categorical & continuous features.\n",
    "#Check out the best plots for plotting between categorical target and continuous features and try making some inferences from these plots\n",
    "#Clean the data, apply some data preprocessing and engineering techniques.\n",
    "\n",
    "# Check the distribution of the target variable\n",
    "\n",
    "#Storing value counts of target variable in 'fully_paid'\n",
    "fully_paid = train['paid.back.loan'].value_counts()\n",
    "fully_paid"
   ]
  },
  {
   "cell_type": "code",
   "execution_count": 60,
   "metadata": {},
   "outputs": [
    {
     "data": {
      "image/png": "[encoded data removed]",
      "text/plain": [
       "<Figure size 432x288 with 1 Axes>"
      ]
     },
     "metadata": {
      "needs_background": "light"
     },
     "output_type": "display_data"
    }
   ],
   "source": [
    "#Plotting bar plot\n",
    "plt.bar(fully_paid.index, fully_paid)\n",
    "plt.show()"
   ]
  },
  {
   "cell_type": "code",
   "execution_count": 61,
   "metadata": {},
   "outputs": [
    {
     "data": {
      "text/plain": [
       "0    12.53\n",
       "1    10.20\n",
       "2    12.87\n",
       "3    15.37\n",
       "4    14.61\n",
       "Name: int.rate, dtype: object"
      ]
     },
     "execution_count": 61,
     "metadata": {},
     "output_type": "execute_result"
    }
   ],
   "source": [
    "# From the column int.rate of 'train', remove the % character and convert the column into float.\n",
    "# After that divide the values of 'int.rate' with 100 and store the result back to the column 'int.rate'\n",
    "\n",
    "#Removing the last character from the values in column\n",
    "train['int.rate'] = train['int.rate'].map(lambda x: str(x)[:-1])\n",
    "train['int.rate'].head()\n"
   ]
  },
  {
   "cell_type": "code",
   "execution_count": 62,
   "metadata": {},
   "outputs": [
    {
     "data": {
      "text/plain": [
       "0    0.1253\n",
       "1    0.1020\n",
       "2    0.1287\n",
       "3    0.1537\n",
       "4    0.1461\n",
       "Name: int.rate, dtype: float64"
      ]
     },
     "execution_count": 62,
     "metadata": {},
     "output_type": "execute_result"
    }
   ],
   "source": [
    "#Dividing the column values by 100\n",
    "train['int.rate'] = train['int.rate'].astype(float)/100\n",
    "train['int.rate'].head()"
   ]
  },
  {
   "cell_type": "code",
   "execution_count": 63,
   "metadata": {},
   "outputs": [
    {
     "name": "stdout",
     "output_type": "stream",
     "text": [
      "   int.rate  installment  log.annual.inc    dti  fico  days.with.cr.line  \\\n",
      "0    0.1253       689.41       11.513725  14.45   722        4291.000000   \n",
      "1    0.1020       485.42       10.315597  12.87   752        5789.958333   \n",
      "2    0.1287       121.08       11.238436   1.58   692        3391.000000   \n",
      "3    0.1537       348.47       11.142007  11.01   687        5370.000000   \n",
      "4    0.1461       344.76       10.308953  11.36   672        2429.958333   \n",
      "\n",
      "   revol.bal  revol.util  pub.rec  \n",
      "0      13171        51.8        0  \n",
      "1      14857        31.3        0  \n",
      "2      12135        85.5        0  \n",
      "3      10631        35.3        0  \n",
      "4      10544        57.0        0  \n",
      "  credit.policy             purpose inq.last.6mths delinq.2yrs paid.back.loan\n",
      "0           Yes  debt_consolidation    Less than 5          No            Yes\n",
      "1           Yes         credit_card    Less than 5         Yes            Yes\n",
      "2           Yes  debt_consolidation    Less than 5          No            Yes\n",
      "3            No           all_other   Less than 10          No            Yes\n",
      "4           Yes  debt_consolidation    Less than 5         Yes            Yes\n"
     ]
    }
   ],
   "source": [
    "#Storing all the numerical type columns in 'num_df'\n",
    "num_df = train.select_dtypes(include=['number']).copy()\n",
    "print(num_df.head())\n",
    "\n",
    "#Storing all the categorical type columns in 'cat_df'\n",
    "cat_df = train.select_dtypes(include=['object']).copy()\n",
    "print(cat_df.head())"
   ]
  },
  {
   "cell_type": "code",
   "execution_count": 64,
   "metadata": {},
   "outputs": [
    {
     "name": "stdout",
     "output_type": "stream",
     "text": [
      "['int.rate', 'installment', 'log.annual.inc', 'dti', 'fico', 'days.with.cr.line', 'revol.bal', 'revol.util', 'pub.rec']\n"
     ]
    },
    {
     "data": {
      "text/plain": [
       "<Figure size 1440x1440 with 0 Axes>"
      ]
     },
     "metadata": {},
     "output_type": "display_data"
    },
    {
     "data": {
      "image/png": "[encoded data removed]",
      "text/plain": [
       "<Figure size 720x1440 with 9 Axes>"
      ]
     },
     "metadata": {
      "needs_background": "light"
     },
     "output_type": "display_data"
    },
    {
     "data": {
      "image/png": "[encoded data removed]",
      "text/plain": [
       "<Figure size 1440x1440 with 4 Axes>"
      ]
     },
     "metadata": {
      "needs_background": "light"
     },
     "output_type": "display_data"
    }
   ],
   "source": [
    "plt.figure(figsize=(20,20))\n",
    "\n",
    "\n",
    "#Storing the columns of 'num_df'\n",
    "cols=list(num_df.columns)\n",
    "print(cols)\n",
    "\n",
    "#Creating subplots\n",
    "fig,axes=plt.subplots(9,1, figsize=(10,20))\n",
    "\n",
    "#Looping across rows\n",
    "for i in range(9):          \n",
    "    \n",
    "    #Plotting boxplot\n",
    "    sns.boxplot(x=train['paid.back.loan'],y=num_df[cols[i]],ax=axes[i])\n",
    "    \n",
    "    #Avoiding subplots overlapping\n",
    "    fig.tight_layout()    \n",
    "\n",
    "# Visualizing Categorical Features\n",
    "#Storing the columns of 'cat_df'\n",
    "cols=list(cat_df.columns)\n",
    "\n",
    "#Setting up subplots\n",
    "fig,axes=plt.subplots(2,2, figsize=(20,20))\n",
    "\n",
    "#Looping through rows\n",
    "for i in range(0,2):\n",
    "    \n",
    "    #Looping through columns\n",
    "    for j in range(0,2):\n",
    "        \n",
    "        #Plotting count plot\n",
    "        sns.countplot(x=train[cols[i*2+j]], hue=train['paid.back.loan'],ax=axes[i,j])                        \n",
    "        \n",
    "        #Avoiding subplots overlapping\n",
    "        fig.tight_layout()    "
   ]
  },
  {
   "cell_type": "code",
   "execution_count": 66,
   "metadata": {},
   "outputs": [
    {
     "name": "stdout",
     "output_type": "stream",
     "text": [
      "Accuracy:  0.7324923879947803\n"
     ]
    }
   ],
   "source": [
    "#Model building\n",
    "#Separate the features and target.\n",
    "#Now let's come to the actual task, using Decision Tree, predict the paid.back.loan. Use different techniques you have learned to imporove the performance of the model\n",
    "#Try improving upon the accuracy_score (Accuracy Score)\n",
    "\n",
    "# Split the data into train and test\n",
    "X = train.drop(columns = ['paid.back.loan'])\n",
    "y = train[['paid.back.loan']]\n",
    "\n",
    "X_train, X_test, y_train, y_test = train_test_split(X, y, test_size=0.3, random_state=3)\n",
    "\n",
    "# Initializing a list of categorical columns & dropping the target column from the list\n",
    "cat_cols = list(cat_df.columns)\n",
    "cat_df = cat_cols.remove('paid.back.loan')\n",
    "\n",
    "#Looping through categorical columns\n",
    "for col in cat_cols:\n",
    "    \n",
    "    #Filling null values with 'NA'\n",
    "    X_train[col].fillna('NA',inplace=True)\n",
    "    \n",
    "    #Initalising a label encoder object\n",
    "    le=LabelEncoder()\n",
    "    \n",
    "    #Fitting and transforming the column in X_train with 'le'\n",
    "    X_train[col]=le.fit_transform(X_train[col]) \n",
    "    \n",
    "    #Filling null values with 'NA'\n",
    "    X_test[col].fillna('NA',inplace=True)\n",
    "    \n",
    "    #Fitting the column in X_test with 'le'\n",
    "    X_test[col]=le.transform(X_test[col]) \n",
    "\n",
    "# Replacing the values of y_train\n",
    "y_train.replace({'No':0,'Yes':1},inplace=True)\n",
    "\n",
    "# Replacing the values of y_test\n",
    "y_test.replace({'No':0,'Yes':1},inplace=True)\n",
    "\n",
    "#Initialising 'Decision Tree' model    \n",
    "model=DecisionTreeClassifier(random_state=0)\n",
    "\n",
    "#Training the 'Decision Tree' model\n",
    "model.fit(X_train, y_train)\n",
    "\n",
    "#Finding the accuracy of 'Decision Tree' model\n",
    "acc=model.score(X_test, y_test)\n",
    "\n",
    "#Printing the accuracy\n",
    "print(\"Accuracy: \", acc)\n",
    "\n",
    "\n",
    "# Code ends here"
   ]
  },
  {
   "cell_type": "code",
   "execution_count": 67,
   "metadata": {},
   "outputs": [
    {
     "name": "stdout",
     "output_type": "stream",
     "text": [
      "Accuracy:  0.8316659417137886\n"
     ]
    }
   ],
   "source": [
    "# Let's see if pruning of decision tree improves its accuracy. We will use grid search to do the optimum pruning.\n",
    "\n",
    "#Parameter grid\n",
    "parameter_grid = {'max_depth': np.arange(3,10), 'min_samples_leaf': range(10,50,10)}\n",
    "\n",
    "#Code starts here\n",
    "\n",
    "#Initialising 'Decision Tree' model\n",
    "model_2 = DecisionTreeClassifier(random_state=0)\n",
    "\n",
    "#Applying Grid Search of hyper-parameters and finding the optimum 'Decision Tree' model\n",
    "p_tree = GridSearchCV(model_2, parameter_grid, cv=5)\n",
    "\n",
    "#Training the optimum 'Decision Tree' model\n",
    "p_tree.fit(X_train, y_train)\n",
    "\n",
    "#Finding the accuracy of the optimum 'Decision Tree' model\n",
    "acc_2 = p_tree.score(X_test, y_test)\n",
    "\n",
    "#Printing the accuracy\n",
    "print(\"Accuracy: \", acc_2)"
   ]
  },
  {
   "cell_type": "code",
   "execution_count": 68,
   "metadata": {},
   "outputs": [
    {
     "name": "stdout",
     "output_type": "stream",
     "text": [
      "     Id  paid.back.loan\n",
      "0  5468               1\n",
      "1  7530               1\n",
      "2   501               1\n",
      "3  2690               1\n",
      "4  3691               1\n"
     ]
    }
   ],
   "source": [
    "#Prediction on the test data and creating the sample submission file.¶\n",
    "#Load the test data and store the Id column in a separate variable.\n",
    "#Perform the same operations on the test data that you have performed on the train data.\n",
    "#Create the submission file as a csv file consisting of the Id column from the test data and your prediction as the second column.\n",
    "\n",
    "# Code Starts here\n",
    "# Prediction on test data\n",
    "\n",
    "# Read the test data\n",
    "test = pd.read_csv('C:/Users/hp/Python Projects/Projects/Project_Decision_Trees_Loan_Defaulters/test.csv')\n",
    "\n",
    "# Storing the id from the test file\n",
    "id_ = test['Id']\n",
    "\n",
    "# Apply the transformations on test\n",
    "test.drop(columns=['Id', 'customer.id'],inplace=True)\n",
    "#Removing the last character from the values in column\n",
    "test['int.rate'] = test['int.rate'].map(lambda x: str(x)[:-1])\n",
    "\n",
    "#Dividing the column values by 100\n",
    "test['int.rate']=test['int.rate'].astype(float)/100\n",
    "\n",
    "for col in cat_cols:\n",
    "    \n",
    "    #Filling null values with 'NA'\n",
    "    test[col].fillna('NA',inplace=True)\n",
    "    \n",
    "    #Initalising a label encoder object\n",
    "    le=LabelEncoder()\n",
    "    \n",
    "    #Fitting and transforming the column in test with 'le'\n",
    "    le.fit(train[col])\n",
    "    test[col]=le.transform(test[col]) \n",
    "    \n",
    "    \n",
    "    \n",
    "# Predict on the test data\n",
    "y_pred_test = p_tree.predict(test)\n",
    "y_pred_test = y_pred_test.flatten()\n",
    "\n",
    "# Create a sample submission file\n",
    "sample_submission = pd.DataFrame({'Id':id_,'paid.back.loan':y_pred_test})\n",
    "print(sample_submission.head())\n",
    "\n",
    "# Replacing the values of sample_submission\n",
    "sample_submission.replace({1:'Yes', 0: 'No'},inplace=True)\n",
    "\n",
    "# Convert the sample submission file into a csv file\n",
    "sample_submission.to_csv('sample_submission_test1.csv',index=False)\n",
    "\n",
    "# Code ends here\n"
   ]
  }
 ],
 "metadata": {
  "kernelspec": {
   "display_name": "Python 3",
   "language": "python",
   "name": "python3"
  },
  "language_info": {
   "codemirror_mode": {
    "name": "ipython",
    "version": 3
   },
   "file_extension": ".py",
   "mimetype": "text/x-python",
   "name": "python",
   "nbconvert_exporter": "python",
   "pygments_lexer": "ipython3",
   "version": "3.7.3"
  }
 },
 "nbformat": 4,
 "nbformat_minor": 2
}
